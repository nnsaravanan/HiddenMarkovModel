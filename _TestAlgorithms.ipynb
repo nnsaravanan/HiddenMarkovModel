{
 "cells": [
  {
   "attachments": {},
   "cell_type": "markdown",
   "metadata": {},
   "source": [
    "### Setting up imports and inputs"
   ]
  },
  {
   "cell_type": "code",
   "execution_count": 8,
   "metadata": {},
   "outputs": [],
   "source": [
    "from AlgViterbi import *\n",
    "from AlgForwardBackward import *\n",
    "from Helpful import *\n",
    "import numpy as np\n",
    "import os\n",
    "\n",
    "# hidden state string values\n",
    "hidden_states = [\"F\",\"L\"]\n",
    "\n",
    "# initial probabilities of hidden states\n",
    "initial_prob = np.array([0.5,0.5])\n",
    "\n",
    "# probabilities of transitioning from hidden state i to j transition_prob[i][j]\n",
    "transition_prob = np.array([[0.9, 0.1],\n",
    "                            [0.05, 0.95]])\n",
    "# probabilities of observing emission i at hidden state j dice_prob[i][j]\n",
    "dice_prob = np.array([[0,0],\n",
    "                      [1/6,1/10],\n",
    "                      [1/6,1/10],\n",
    "                      [1/6,1/10],\n",
    "                      [1/6,1/10],\n",
    "                      [1/6,1/10],\n",
    "                      [1/6,1/2]])"
   ]
  },
  {
   "attachments": {},
   "cell_type": "markdown",
   "metadata": {},
   "source": [
    "### Importing sequences and solutions from data"
   ]
  },
  {
   "cell_type": "code",
   "execution_count": 9,
   "metadata": {},
   "outputs": [],
   "source": [
    "current_dir = os.getcwd()\n",
    "\n",
    "# gets the data if the data_and_sols file is in the same folder as this notebook\n",
    "files = [os.path.join(current_dir, \"data_and_sols\", f\"casino{i}_sols.txt\") for i in range(1,4)]\n",
    "\n",
    "data_dict = dict()\n",
    "\n",
    "ct = 1\n",
    "for path in files:\n",
    "    with open(path, \"r\") as f:\n",
    "        lines = f.readlines()\n",
    "        data = [int(x) for x in lines[0].strip()]\n",
    "\n",
    "        data_dict[f\"casino{ct}\"] = [data,lines[1].strip()]\n",
    "        ct+=1\n"
   ]
  },
  {
   "attachments": {},
   "cell_type": "markdown",
   "metadata": {},
   "source": [
    "### Checking accuracy of the output for the Viterbi Algorithm"
   ]
  },
  {
   "cell_type": "code",
   "execution_count": 10,
   "metadata": {},
   "outputs": [
    {
     "name": "stdout",
     "output_type": "stream",
     "text": [
      "[CASINO1]\n",
      "EXPECTED    :   FFFFFFFFFFFFFFFFFFFFFFFFFFFFFLLLLLLLLLLLLLLLLLLLLLLLLLLLLLLLLFFFFFFFFFFFFFFFFFFFFFFFFLLLLLLLLLLLLLLLL\n",
      "CALCULATED  :   FFFFFFFFFFFFFFFFFFFFFFFFFFFFLLLLLLLLLLLLLLLLLLLLLLLLLLLFFFFFFFFFFFFFFFFFFFFFFFFFFFFFFFFFLLLLLLLLLLLLL\n",
      "% Correct   :   90.099 %\n",
      "\n",
      "\n",
      "[CASINO2]\n",
      "EXPECTED    :   FFFFFFFFFFFLLLLLLLLLLLLLLLLLFFFFFFFFFFFFLLLLLLLLLLLLLFFFFFFFFFFFFFFLLLLLLLLLLLLLLLLLLLLLLLLL\n",
      "CALCULATED  :   LLLLLLLLLLLLLLLLLLLLLLLLLLLLLLLLLLLLLLLLLLLLLLLLLLFFFFFFFFFFFFLLLLLLLLLLLLLLLLLLLLLLLLLLLLLL\n",
      "% Correct   :   66.304 %\n",
      "\n",
      "\n",
      "[CASINO3]\n",
      "EXPECTED    :   FFFFFFFFFFFFFFFFFFFFFFFFFFFFFFFFFFFFFFFFFFFFFFFFFFFFFFFFFFFFFFFFFFFFFFFFFFFFFFFFFFFFFFFFFFFFFFFFFFFFFFFFFFFFFFFFFFFFFFFFFFFFFFFLLLLLLLLLLLLLLLLLLLLLLLLLLLLLLLLLLLLLLLLLLLLLLLLLLLLLLLLLLLLLLLLLLLLLLLLLLLLLLLLLLLLLLLLLLLLLLLLLLLLLLLLLLLLLLLLLLLLLLLLLLLLLLLLLLLLLLLLLLLLLLLLLLLLLLLLLLLLLLLLLLLLLLLLLLLLLLLLLLLLFFFFFFFFFFFFFFFFFFFFFFFFFFFFFFFFFFFFFFFFFFFFFFFFFFFFFFFFFFFFFFFFFFFFFFFFFFFFFFFFFFFFFFFFFFFFFFFFFFFFFFFFFFFFFFFFFFFFFFFFFFFFFFFFFFFFFFFFFFFFFFFFLLLLLLLLLLLLLLL\n",
      "CALCULATED  :   FFFFFFFFFFFFFFFFFFFFFFFFFFFFFFFFFFFFFFFFFFFFFFFFFFFFFFFFFFFFFFFFFFFFFFFFFFFFFFFFFLLLLLLFFFFFFFFFFFFFFFFFFFFFFFFFFFFFLLLLLLLLLLLLLLLLLLLLLLLLLLLLLLLLLLLLLLLLLLLLLLLLLLLLLLLLLLLLLLLLLLLLLLLLLLLLLLLLLLLLLLLLLLLLLLLLLLLLLLLLLLLLLLLLLLLLLLLLLLLLLLLLLLLLLLLLLLLLLLLLLLLLLLLLLLLLLLLLLLLLLLLLLLLLLLLLLLLLLLLLLLLLLLLLLLLFFFFFFFFFFFFFFFFFFFFFFFFFFFFFFFFFFFFFFFFFFFFFFFFFFFFFFFFFFFFFFFFFFFFFFFFFFFFFFFFFFFFFFFFFFFFFFFFFFFFFFFFFFFFFFFFFFFFFFFFFFFFFFFLLLLLLLLLLLLLLLLLLLLLLLLLLLL\n",
      "% Correct   :   92.704 %\n",
      "\n",
      "\n"
     ]
    }
   ],
   "source": [
    "for inpt,val in data_dict.items():\n",
    "    sol = convert_to_string(viterbi(initial_prob,transition_prob,dice_prob,val[0]),hidden_states)\n",
    "\n",
    "    print(f\"[{inpt.upper()}]\\nEXPECTED    :   {val[1]}\\nCALCULATED  :   {sol}\\n% Correct   :   {calc_correct(val[1],sol)} %\\n\\n\")"
   ]
  },
  {
   "attachments": {},
   "cell_type": "markdown",
   "metadata": {},
   "source": [
    "### Checking accuracy of the output for the Forwards-Backwards Algorithm"
   ]
  },
  {
   "cell_type": "code",
   "execution_count": 11,
   "metadata": {},
   "outputs": [
    {
     "name": "stdout",
     "output_type": "stream",
     "text": [
      "[CASINO1]\n",
      "EXPECTED    :   FFFFFFFFFFFFFFFFFFFFFFFFFFFFFLLLLLLLLLLLLLLLLLLLLLLLLLLLLLLLLFFFFFFFFFFFFFFFFFFFFFFFFLLLLLLLLLLLLLLLL\n",
      "CALCULATED  :   FFFFFFFFFLFFFFFLFFFFFFFFFFFLLLLLLLLLLLLLLLLLLLLLLLLLLLLLLLLFFFFFFFFLFFFFFFFFLFLLLLLLLLLLLLLLLLLLLLLLL\n",
      "% Correct   :   85.149 %\n",
      "\n",
      "\n",
      "[CASINO2]\n",
      "EXPECTED    :   FFFFFFFFFFFLLLLLLLLLLLLLLLLLFFFFFFFFFFFFLLLLLLLLLLLLLFFFFFFFFFFFFFFLLLLLLLLLLLLLLLLLLLLLLLLL\n",
      "CALCULATED  :   LLLLLLLLLLLLLLLLLLLLLLLLLLLLLLFFFFLLLLLLLLLLLLLLLLLLFFFFFFFFFLLLLLLLLLLLLLLLLLLLLLLLLLLLLLLL\n",
      "% Correct   :   71.739 %\n",
      "\n",
      "\n",
      "[CASINO3]\n",
      "EXPECTED    :   FFFFFFFFFFFFFFFFFFFFFFFFFFFFFFFFFFFFFFFFFFFFFFFFFFFFFFFFFFFFFFFFFFFFFFFFFFFFFFFFFFFFFFFFFFFFFFFFFFFFFFFFFFFFFFFFFFFFFFFFFFFFFFFLLLLLLLLLLLLLLLLLLLLLLLLLLLLLLLLLLLLLLLLLLLLLLLLLLLLLLLLLLLLLLLLLLLLLLLLLLLLLLLLLLLLLLLLLLLLLLLLLLLLLLLLLLLLLLLLLLLLLLLLLLLLLLLLLLLLLLLLLLLLLLLLLLLLLLLLLLLLLLLLLLLLLLLLLLLLLLLLLLLLFFFFFFFFFFFFFFFFFFFFFFFFFFFFFFFFFFFFFFFFFFFFFFFFFFFFFFFFFFFFFFFFFFFFFFFFFFFFFFFFFFFFFFFFFFFFFFFFFFFFFFFFFFFFFFFFFFFFFFFFFFFFFFFFFFFFFFFFFFFFFFFFLLLLLLLLLLLLLLL\n",
      "CALCULATED  :   FFFFFFFFFFFLFLLLLFFFFFFFFFFFFFFLFFFFLFFFFLFLFFFFFFFLFFFFFFFFFFLLLLLLFFFLFFFFFFFLLLLLLLLLLFFFFFFLFFFFFFFFFFFFFFFFFFFFLLLLLLLLLLLLLLLLLLLLLLLLLLLLLLLLLLLLLLLLLLLLLLLLLLLLLLLLLLLLLLLLLLLLLLLLLLLLLLLLLLLLLLLLLLLLLLLLLLLLLLLLLLLLLLLLLLLLLLLLLLLLLLLLLLLLLLLLLLLLLLLLLLLLLLLLLLLLLLLLLLLLLLLLLLLLLLLLLLLLLLLLLLLLLLLLLLLLLFFFFFLLLLLFLFFFFFFFFFFFFFFFFFFFFFFFFFFFFFFFFFFFFFFFFFFFLFLLLLFFFFFFFFFFFFFFLFFFFLFFFFLFLFFFFFFFLFFFFFFFFFFLLLLLLFFFLFFFFFFFLLLLLLLLLLLLLLLLLLLLLLLLLLLLLL\n",
      "% Correct   :   82.189 %\n",
      "\n",
      "\n"
     ]
    }
   ],
   "source": [
    "for inpt,val in data_dict.items():\n",
    "    sol = convert_to_string(forwards_backwards(initial_prob,transition_prob,dice_prob,val[0]), hidden_states)\n",
    "\n",
    "    print(f\"[{inpt.upper()}]\\nEXPECTED    :   {val[1]}\\nCALCULATED  :   {sol}\\n% Correct   :   {calc_correct(val[1],sol)} %\\n\\n\")"
   ]
  },
  {
   "cell_type": "code",
   "execution_count": null,
   "metadata": {},
   "outputs": [],
   "source": []
  }
 ],
 "metadata": {
  "kernelspec": {
   "display_name": "base",
   "language": "python",
   "name": "python3"
  },
  "language_info": {
   "codemirror_mode": {
    "name": "ipython",
    "version": 3
   },
   "file_extension": ".py",
   "mimetype": "text/x-python",
   "name": "python",
   "nbconvert_exporter": "python",
   "pygments_lexer": "ipython3",
   "version": "3.9.12"
  },
  "orig_nbformat": 4
 },
 "nbformat": 4,
 "nbformat_minor": 2
}
